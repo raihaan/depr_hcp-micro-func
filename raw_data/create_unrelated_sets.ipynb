{
 "cells": [
  {
   "cell_type": "code",
   "execution_count": 97,
   "metadata": {},
   "outputs": [
    {
     "name": "stdout",
     "output_type": "stream",
     "text": [
      "Populating the interactive namespace from numpy and matplotlib\n"
     ]
    }
   ],
   "source": [
    "import sys, os\n",
    "import numpy as np\n",
    "import pandas as pd\n",
    "\n",
    "%pylab inline"
   ]
  },
  {
   "cell_type": "code",
   "execution_count": 81,
   "metadata": {},
   "outputs": [],
   "source": [
    "df_all = pd.read_csv('merged_sorted_r277all_n897_2_4_2021.csv')\n",
    "#df_all.sort_values(by=['Family_ID','Age_in_Yrs'])\n",
    "df_all.sort_values(by=['Family_ID'], inplace=True)"
   ]
  },
  {
   "cell_type": "code",
   "execution_count": 82,
   "metadata": {
    "scrolled": true
   },
   "outputs": [
    {
     "name": "stdout",
     "output_type": "stream",
     "text": [
      "Set one has 387 subjects and 387 family ids\n",
      "Set two has 305 subjects and 305 family ids\n",
      "Set three has 160 subjects and 160 family ids\n",
      "a total of 852 out of 897\n"
     ]
    }
   ],
   "source": [
    "set_one = {'Subject': [], 'Family_ID' : []}\n",
    "set_two = {'Subject': [], 'Family_ID' : []}\n",
    "set_three = {'Subject': [], 'Family_ID' : []}\n",
    "for subject in df_all['Subject']:\n",
    "    #get family id\n",
    "    fam_id = df_all[df_all['Subject'] == subject]['Family_ID'].values[0]\n",
    "    if fam_id not in set_one['Family_ID']:\n",
    "        set_one['Subject'].append(subject); set_one['Family_ID'].append(fam_id)\n",
    "    elif fam_id not in set_two['Family_ID']:\n",
    "        set_two['Subject'].append(subject); set_two['Family_ID'].append(fam_id)\n",
    "    elif fam_id not in set_three['Family_ID']:\n",
    "        set_three['Subject'].append(subject); set_three['Family_ID'].append(fam_id)\n",
    "\n",
    "print('Set one has',len(set_one['Subject']), 'subjects and', len(np.unique(set_one['Family_ID'])), 'family ids')\n",
    "print('Set two has',len(set_two['Subject']), 'subjects and', len(np.unique(set_two['Family_ID'])), 'family ids')\n",
    "print('Set three has',len(set_three['Subject']), 'subjects and', len(np.unique(set_three['Family_ID'])), 'family ids')\n",
    "\n",
    "print('a total of', np.sum([len(set_one['Subject']), len(set_two['Subject']),\n",
    "                          len(set_three['Subject'])]), 'out of', len(df_all))\n",
    "      \n",
    "#create dataframes for each set - full data merged with list of ids built above\n",
    "df_set_one = pd.merge(df_all,pd.DataFrame(set_one),how='inner',on=['Subject','Family_ID'])\n",
    "df_set_two = pd.merge(df_all,pd.DataFrame(set_two),how='inner',on=['Subject','Family_ID'])\n",
    "df_set_three = pd.merge(df_all,pd.DataFrame(set_three),how='inner',on=['Subject','Family_ID'])"
   ]
  },
  {
   "cell_type": "code",
   "execution_count": 114,
   "metadata": {},
   "outputs": [
    {
     "name": "stdout",
     "output_type": "stream",
     "text": [
      "checking ages\n",
      "set one\n",
      "28.59173126614987 3.697716852682768\n",
      "set two\n",
      "28.64262295081967 3.8240163855363263\n",
      "set three\n",
      "28.4625 3.5317975239246087\n"
     ]
    },
    {
     "data": {
      "image/png": "[encoded data removed]",
      "text/plain": [
       "<Figure size 1440x360 with 3 Axes>"
      ]
     },
     "metadata": {
      "needs_background": "light"
     },
     "output_type": "display_data"
    }
   ],
   "source": [
    "#demographics check - what are the age and sex distributions like\n",
    "\n",
    "#set one\n",
    "print(\"checking ages\")\n",
    "print(\"set one\")\n",
    "print(np.mean(df_set_one['Age_in_Yrs'].values), np.std(df_set_one['Age_in_Yrs'].values))\n",
    "\n",
    "print(\"set two\")\n",
    "print(np.mean(df_set_two['Age_in_Yrs'].values), np.std(df_set_two['Age_in_Yrs'].values))\n",
    "\n",
    "print(\"set three\")\n",
    "print(np.mean(df_set_three['Age_in_Yrs'].values), np.std(df_set_three['Age_in_Yrs'].values))\n",
    "\n",
    "fig,ax=plt.subplots(1,3,figsize=(20,5))\n",
    "ax[0].hist(df_set_one['Age_in_Yrs'].values.flatten(),bins=14)\n",
    "ax[1].hist(df_set_two['Age_in_Yrs'].values.flatten(),bins=14)\n",
    "ax[2].hist(df_set_three['Age_in_Yrs'].values.flatten(),bins=14)\n",
    "plt.show()"
   ]
  },
  {
   "cell_type": "code",
   "execution_count": 115,
   "metadata": {},
   "outputs": [
    {
     "name": "stdout",
     "output_type": "stream",
     "text": [
      "checking gender\n",
      "set one\n",
      "201 F 51.93798449612403 %\n",
      "set two\n",
      "160 F 52.459016393442624 %\n",
      "set three\n",
      "81 F 50.625 %\n"
     ]
    },
    {
     "data": {
      "image/png": "[encoded data removed]",
      "text/plain": [
       "<Figure size 1440x360 with 3 Axes>"
      ]
     },
     "metadata": {
      "needs_background": "light"
     },
     "output_type": "display_data"
    }
   ],
   "source": [
    "print(\"checking gender\")\n",
    "print(\"set one\")\n",
    "print(np.sum(df_set_one['Gender'] == 'F'), 'F',\n",
    "      np.divide(np.sum(df_set_one['Gender'] == 'F'),len(df_set_one)) *100, '%')\n",
    "\n",
    "print(\"set two\")\n",
    "print(np.sum(df_set_two['Gender'] == 'F'), 'F',\n",
    "      np.divide(np.sum(df_set_two['Gender'] == 'F'),len(df_set_two)) *100, '%')\n",
    "\n",
    "print(\"set three\")\n",
    "print(np.sum(df_set_three['Gender'] == 'F'), 'F',\n",
    "      np.divide(np.sum(df_set_three['Gender'] == 'F'),len(df_set_three)) *100, '%')\n",
    "\n",
    "fig,ax=plt.subplots(1,3,figsize=(20,5))\n",
    "ax[0].hist(df_set_one['Gender'].values.flatten())\n",
    "ax[1].hist(df_set_two['Gender'].values.flatten())\n",
    "ax[2].hist(df_set_three['Gender'].values.flatten())\n",
    "plt.show()"
   ]
  },
  {
   "cell_type": "code",
   "execution_count": 117,
   "metadata": {},
   "outputs": [],
   "source": [
    "#am content with the number and age/sex distribution, write out\n",
    "df_set_one.sort_values(by='Age_in_Yrs', inplace=True)\n",
    "df_set_one.to_csv('merged_sorted_r277_unrelated_setA_n387.csv', index=False)\n",
    "\n",
    "df_set_two.sort_values(by='Age_in_Yrs', inplace=True)\n",
    "df_set_two.to_csv('merged_sorted_r277_unrelated_setB_n305.csv', index=False)\n",
    "\n",
    "df_set_three.sort_values(by='Age_in_Yrs', inplace=True)\n",
    "df_set_three.to_csv('merged_sorted_r277_unrelated_setC_n160.csv', index=False)"
   ]
  }
 ],
 "metadata": {
  "kernelspec": {
   "display_name": "Python 3",
   "language": "python",
   "name": "python3"
  },
  "language_info": {
   "codemirror_mode": {
    "name": "ipython",
    "version": 3
   },
   "file_extension": ".py",
   "mimetype": "text/x-python",
   "name": "python",
   "nbconvert_exporter": "python",
   "pygments_lexer": "ipython3",
   "version": "3.6.5"
  }
 },
 "nbformat": 4,
 "nbformat_minor": 2
}
